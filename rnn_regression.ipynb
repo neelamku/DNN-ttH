{
  "nbformat": 4,
  "nbformat_minor": 0,
  "metadata": {
    "colab": {
      "name": "rnn_regression.ipynb",
      "provenance": [],
      "collapsed_sections": [],
      "authorship_tag": "ABX9TyMeci9MFbFfYnOKvcl1h5RQ",
      "include_colab_link": true
    },
    "kernelspec": {
      "name": "python3",
      "display_name": "Python 3"
    },
    "language_info": {
      "name": "python"
    }
  },
  "cells": [
    {
      "cell_type": "markdown",
      "metadata": {
        "id": "view-in-github",
        "colab_type": "text"
      },
      "source": [
        "<a href=\"https://colab.research.google.com/github/neelamku/DNN-ttH/blob/main/rnn_regression.ipynb\" target=\"_parent\"><img src=\"https://colab.research.google.com/assets/colab-badge.svg\" alt=\"Open In Colab\"/></a>"
      ]
    },
    {
      "cell_type": "code",
      "metadata": {
        "id": "vctN6yiH8Fdq"
      },
      "source": [
        "!pip install uproot3\n",
        "!pip install uproot"
      ],
      "execution_count": null,
      "outputs": []
    },
    {
      "cell_type": "code",
      "metadata": {
        "colab": {
          "base_uri": "https://localhost:8080/"
        },
        "id": "v_Ng5Z-uIiER",
        "outputId": "408ce14a-d074-4f20-a83c-6bd42f206ca4"
      },
      "source": [
        "from google.colab import drive\n",
        "drive.mount('/content/drive')"
      ],
      "execution_count": null,
      "outputs": [
        {
          "output_type": "stream",
          "name": "stdout",
          "text": [
            "Mounted at /content/drive\n"
          ]
        }
      ]
    },
    {
      "cell_type": "code",
      "metadata": {
        "id": "wPDuULIHIihN"
      },
      "source": [
        "import h5py\n",
        "import numpy as np\n",
        "import pandas as pd\n",
        "import json\n",
        "import os\n",
        "import uproot3\n",
        "import uproot\n",
        "\n",
        "#root to arrays\n",
        "\n",
        "tree = uproot3.open(\"/content/drive/MyDrive/Colab Notebooks/rnn_comb.root\")[\"nominal_Loose_new\"]\n",
        "tree1 = uproot3.open(\"/content/drive/MyDrive/Colab Notebooks/rnn_rewg_latest.root\")[\"nominal_Loose_new\"]\n",
        "\n",
        "m_truthpt_weights = tree1[\"truthpt_weights\"].array()\n",
        "\n",
        "m_higgs_truthPt = tree[\"higgs_truthPt\"].array()\n",
        "m_comb_higgs_truthPt = tree[\"comb_higgs_truthPt\"].array()\n",
        "m_best_higgs_Pt = tree[\"best_higgs_Pt\"].array()\n",
        "m_comb_best_higgs_Pt = tree[\"comb_best_higgs_Pt\"].array()\n",
        "m_best_higgs_Pt_withH = tree[\"best_higgs_Pt_withH\"].array()\n",
        "m_comb_best_higgs_Pt_withH = tree[\"comb_best_higgs_Pt_withH\"].array()\n",
        "\n",
        "m_nBTags_DL1r85 = tree[\"nBTags_DL1r85\"].array()\n",
        "m_nBTags_DL1r70 = tree[\"nBTags_DL1r70\"].array()\n",
        "\n",
        "m_higgs_pt = tree[\"comb_higgs_pt\"].array()\n",
        "m_higgs_mass = tree[\"comb_higgs_mass\"].array()\n",
        "m_hadW_mass = tree[\"comb_hadW_mass\"].array()\n",
        "m_hadtop_mass = tree[\"comb_hadtop_mass\"].array()\n",
        "m_leptop_mass = tree[\"comb_leptop_mass\"].array()\n",
        "m_hadWblepTop_mass = tree[\"comb_hadWblepTop_mass\"].array()\n",
        "m_minbhadTopqhadW_dR = tree[\"comb_minbhadTopqhadW_dR\"].array()\n",
        "m_hadWblepTop_dR = tree[\"comb_hadWblepTop_dR\"].array()\n",
        "m_blepTopbhadTop_dR = tree[\"comb_blepTopbhadTop_dR\"].array()\n",
        "m_bhadTopq2hadW_dR = tree[\"comb_bhadTopq2hadW_dR\"].array()\n",
        "m_hadWbhadTop_dR = tree[\"comb_hadWbhadTop_dR\"].array()\n",
        "m_Higgsq1hadW_mass = tree[\"comb_Higgsq1hadW_mass\"].array()\n",
        "m_bbHiggs_dR = tree[\"comb_bbHiggs_dR\"].array()\n",
        "m_bhadTopq1hadW_dR = tree[\"comb_bhadTopq1hadW_dR\"].array()\n",
        "m_qqhadW_dR = tree[\"comb_qqhadW_dR\"].array()\n",
        "m_diff_mindRbhadTopqhadW_dRlepblepTop = tree[\"comb_diff_mindRbhadTopqhadW_dRlepblepTop\"].array()\n",
        "m_lepbhadTop_dR = tree[\"comb_lepbhadTop_dR\"].array()\n",
        "m_lepb1Higgs_dR = tree[\"comb_lepb1Higgs_dR\"].array()\n",
        "m_lepWbhadTop_mass = tree[\"comb_lepWbhadTop_mass\"].array()\n",
        "m_lepblepTop_dR = tree[\"comb_lepblepTop_dR\"].array()"
      ],
      "execution_count": null,
      "outputs": []
    },
    {
      "cell_type": "code",
      "metadata": {
        "colab": {
          "base_uri": "https://localhost:8080/"
        },
        "id": "dq6tW6XlJEE1",
        "outputId": "49aeec68-27e7-47ca-9e01-2a3de1dd7f66"
      },
      "source": [
        "#prepare data###\n",
        "\n",
        "in_higgs_truthPt = []\n",
        "in_best_higgs_Pt_withH = []\n",
        "\n",
        "#20 variables for input\n",
        "\n",
        "varList = []\n",
        "in_higgs_pt = []\n",
        "in_higgs_mass = []\n",
        "in_hadW_mass = []\n",
        "in_hadtop_mass = []\n",
        "in_leptop_mass = []\n",
        "in_hadWblepTop_mass = []\n",
        "in_minbhadTopqhadW_dR = []\n",
        "in_hadWblepTop_dR = []\n",
        "in_blepTopbhadTop_dR = []\n",
        "in_bhadTopq2hadW_dR = []\n",
        "in_hadWbhadTop_dR = []\n",
        "in_Higgsq1hadW_mass = []\n",
        "in_bbHiggs_dR = []\n",
        "in_bhadTopq1hadW_dR = []\n",
        "in_qqhadW_dR = []\n",
        "in_diff_mindRbhadTopqhadW_dRlepblepTop = []\n",
        "in_lepbhadTop_dR = []\n",
        "in_lepb1Higgs_dR = []\n",
        "in_lepWbhadTop_mass = []\n",
        "in_lepblepTop_dR = []\n",
        "\n",
        "\n",
        "### BTag selections\n",
        "in_nBTags_DL1r85 = []\n",
        "in_nBTags_DL1r70 = []\n",
        "\n",
        "### Truth pT weights\n",
        "in_truthpt_weights = []\n",
        "\n",
        "### count \n",
        "pass_no = 0\n",
        "count = []\n",
        "\n",
        "### put selections and fill only those events\n",
        "\n",
        "for i in range(0,len(m_higgs_truthPt)):\n",
        "  if (m_higgs_truthPt[i]>0): \n",
        "   if (m_nBTags_DL1r70[i]>=4):\n",
        "    if (len(m_higgs_pt[i])>0): #select events with 12/24 combinations\n",
        "\n",
        "      pass_no = pass_no + 1\n",
        "      count.append(pass_no)\n",
        "\n",
        "      ###fill inputs here\n",
        "\n",
        "      in_higgs_truthPt.append(m_higgs_truthPt[i])\n",
        "      in_best_higgs_Pt_withH.append(m_best_higgs_Pt_withH[i])\n",
        "  \n",
        "      ###\n",
        "\n",
        "      in_higgs_pt.append(m_higgs_pt[i])\n",
        "      in_higgs_mass.append(m_higgs_mass[i])\n",
        "      in_hadW_mass.append(m_hadW_mass[i])\n",
        "      in_hadtop_mass.append(m_hadtop_mass[i])\n",
        "      in_leptop_mass.append(m_leptop_mass[i])\n",
        "      in_hadWblepTop_mass.append(m_hadWblepTop_mass[i])\n",
        "      in_minbhadTopqhadW_dR.append(m_minbhadTopqhadW_dR[i])\n",
        "      in_hadWblepTop_dR.append(m_hadWblepTop_dR[i])\n",
        "      in_blepTopbhadTop_dR.append(m_blepTopbhadTop_dR[i])\n",
        "      in_bhadTopq2hadW_dR.append(m_bhadTopq2hadW_dR[i])\n",
        "      in_hadWbhadTop_dR.append(m_hadWbhadTop_dR[i])\n",
        "      in_Higgsq1hadW_mass.append(m_Higgsq1hadW_mass[i])\n",
        "      in_bbHiggs_dR.append(m_bbHiggs_dR[i])\n",
        "      in_bhadTopq1hadW_dR.append(m_bhadTopq1hadW_dR[i])\n",
        "      in_qqhadW_dR.append(m_qqhadW_dR[i])\n",
        "      in_diff_mindRbhadTopqhadW_dRlepblepTop.append(m_diff_mindRbhadTopqhadW_dRlepblepTop[i])\n",
        "      in_lepbhadTop_dR.append(m_lepbhadTop_dR[i])\n",
        "      in_lepb1Higgs_dR.append(m_lepb1Higgs_dR[i])\n",
        "      in_lepWbhadTop_mass.append(m_lepWbhadTop_mass[i])\n",
        "      in_lepblepTop_dR.append(m_lepblepTop_dR[i])\n",
        "         \n",
        "      ###\n",
        "      \n",
        "      in_truthpt_weights.append(m_truthpt_weights[i])\n",
        "\n",
        "a1 = len(count)\n",
        "print (a1)"
      ],
      "execution_count": null,
      "outputs": [
        {
          "output_type": "stream",
          "name": "stdout",
          "text": [
            "73094\n"
          ]
        }
      ]
    },
    {
      "cell_type": "code",
      "metadata": {
        "colab": {
          "base_uri": "https://localhost:8080/"
        },
        "id": "CqNCmGVmNMuo",
        "outputId": "01446dac-3f8d-4ccc-f058-134aeb1012f3"
      },
      "source": [
        "#make fixed length for inputs\n",
        "\n",
        "import tensorflow as tf\n",
        "from sklearn.preprocessing import MinMaxScaler\n",
        "from sklearn.preprocessing import StandardScaler\n",
        "\n",
        "varOrder = [in_higgs_pt,in_higgs_mass,in_hadW_mass,in_hadtop_mass,in_leptop_mass,in_hadWblepTop_mass,in_minbhadTopqhadW_dR,in_hadWblepTop_dR,in_blepTopbhadTop_dR,in_bhadTopq2hadW_dR,in_hadWbhadTop_dR,in_Higgsq1hadW_mass,in_bbHiggs_dR,in_bhadTopq1hadW_dR,in_qqhadW_dR,in_diff_mindRbhadTopqhadW_dRlepblepTop,in_lepbhadTop_dR,in_lepb1Higgs_dR,in_lepWbhadTop_mass,in_lepblepTop_dR]\n",
        "padded_input = []\n",
        "\n",
        "for j in range(0,len(varOrder)):\n",
        "  padded_input.append(tf.keras.preprocessing.sequence.pad_sequences(varOrder[j], padding=\"post\",dtype='float32'))\n",
        "\n",
        "X_sig = np.array(padded_input)\n",
        "X_sig_all_input = np.transpose(X_sig, (1, 2, 0))\n",
        "print (X_sig_all_input.shape)\n",
        "\n",
        "#mask zero from normalization\n",
        "#uncomment if normalize\n",
        "\n",
        "nz = np.any(X_sig_all_input, -1)\n",
        "X_sig_all_input[nz] = StandardScaler().fit_transform(X_sig_all_input[nz])\n",
        "\n",
        "#print(X_sig_all_input[:10])"
      ],
      "execution_count": null,
      "outputs": [
        {
          "output_type": "stream",
          "name": "stdout",
          "text": [
            "(73094, 24, 20)\n"
          ]
        }
      ]
    },
    {
      "cell_type": "code",
      "metadata": {
        "colab": {
          "base_uri": "https://localhost:8080/"
        },
        "id": "_fet53m-Y97I",
        "outputId": "4e60d2fb-10c4-4b9e-958d-076cc370ca74"
      },
      "source": [
        "##target\n",
        "Y_sig = np.copy(in_higgs_truthPt)\n",
        "print (Y_sig.shape)\n",
        "\n",
        "## best higgs pT\n",
        "X_sig_best_higgs_pt_withH = np.copy(in_best_higgs_Pt_withH)\n",
        "\n",
        "##weights\n",
        "rewg_weights = np.copy(in_truthpt_weights)"
      ],
      "execution_count": null,
      "outputs": [
        {
          "output_type": "stream",
          "name": "stdout",
          "text": [
            "(73094,)\n"
          ]
        }
      ]
    },
    {
      "cell_type": "code",
      "metadata": {
        "colab": {
          "base_uri": "https://localhost:8080/"
        },
        "id": "MOebOGpyZAAC",
        "outputId": "177fbaac-0f10-42cc-c4c1-669dcfbbc6b2"
      },
      "source": [
        "##split data: train and test\n",
        "\n",
        "from sklearn.model_selection import train_test_split\n",
        "\n",
        "#signal 01\n",
        "X_train_all_input, X_test_all_input, Y_train_01, Y_test_01 =  train_test_split(X_sig_all_input, Y_sig, test_size=0.50, random_state=42 )\n",
        "print (X_train_all_input.shape)\n",
        "\n",
        "#signal 02 for checks only\n",
        "X_train_best_higgs_pt_withH, X_test_best_higgs_pt_withH, Y_train_02, Y_test_02 =  train_test_split(X_sig_best_higgs_pt_withH, Y_sig, test_size=0.50, random_state=42 )\n",
        "print (X_train_best_higgs_pt_withH.shape)\n"
      ],
      "execution_count": null,
      "outputs": [
        {
          "output_type": "stream",
          "name": "stdout",
          "text": [
            "(36547, 24, 20)\n",
            "(36547,)\n"
          ]
        }
      ]
    },
    {
      "cell_type": "code",
      "metadata": {
        "colab": {
          "base_uri": "https://localhost:8080/"
        },
        "id": "1JYvwoJLZr8O",
        "outputId": "68a48ca1-fd45-4e0d-c1f6-9d31fe0af431"
      },
      "source": [
        "## import functions\n",
        "\n",
        "import keras\n",
        "import tensorflow as tf\n",
        "from keras.layers import BatchNormalization, Layer, TimeDistributed, Dropout\n",
        "from keras.layers import Dense, Input, ReLU, Masking, LSTM, Embedding, Lambda, Bidirectional, Flatten\n",
        "from keras.models import Model\n",
        "\n",
        "from keras.callbacks import EarlyStopping, ModelCheckpoint\n",
        "from tensorflow.keras.layers.experimental import preprocessing\n",
        "from keras import backend as K\n",
        "from keras.models import Sequential\n",
        "from tensorflow.keras.optimizers import Adam, SGD, RMSprop\n",
        "\n",
        "import matplotlib as mpl\n",
        "import matplotlib.pyplot as plt\n",
        "from numpy.polynomial.polynomial import polyfit\n",
        "import statsmodels.api as sm\n",
        "\n",
        "#from numpy.random import seed\n",
        "#seed(1)\n",
        "#import tensorflow\n",
        "#tensorflow.random.set_seed(2)"
      ],
      "execution_count": null,
      "outputs": [
        {
          "output_type": "stream",
          "name": "stderr",
          "text": [
            "/usr/local/lib/python3.7/dist-packages/statsmodels/tools/_testing.py:19: FutureWarning: pandas.util.testing is deprecated. Use the functions in the public API at pandas.testing instead.\n",
            "  import pandas.util.testing as tm\n"
          ]
        }
      ]
    },
    {
      "cell_type": "code",
      "metadata": {
        "colab": {
          "base_uri": "https://localhost:8080/"
        },
        "id": "_KTFqxNbZxb4",
        "outputId": "7e6effe7-a6bc-4a3a-c880-84a4df3712e7"
      },
      "source": [
        "nEvnt, nComb, nFeatures = X_train_all_input.shape\n",
        "\n",
        "model = keras.Sequential([\n",
        "    keras.layers.Masking(mask_value=0.,input_shape=(nComb,nFeatures)),\n",
        "    keras.layers.Flatten(),\n",
        "    keras.layers.Dense(240,activation=\"relu\",kernel_initializer='he_normal', bias_initializer= 'he_normal'),\n",
        "    keras.layers.Dropout(0.2),\n",
        "    keras.layers.Dense(120,activation=\"relu\",kernel_initializer='he_normal',bias_initializer= 'he_normal'),\n",
        "    keras.layers.Dropout(0.2),\n",
        "    keras.layers.Dense(64,activation=\"relu\",kernel_initializer='he_normal',bias_initializer= 'he_normal'),\n",
        "    keras.layers.Dense(1,activation='linear',bias_initializer= 'normal')\n",
        "  ])\n",
        "\n",
        "model.summary()"
      ],
      "execution_count": null,
      "outputs": [
        {
          "output_type": "stream",
          "name": "stdout",
          "text": [
            "Model: \"sequential\"\n",
            "_________________________________________________________________\n",
            "Layer (type)                 Output Shape              Param #   \n",
            "=================================================================\n",
            "masking (Masking)            (None, 24, 20)            0         \n",
            "_________________________________________________________________\n",
            "flatten (Flatten)            (None, 480)               0         \n",
            "_________________________________________________________________\n",
            "dense (Dense)                (None, 240)               115440    \n",
            "_________________________________________________________________\n",
            "dropout (Dropout)            (None, 240)               0         \n",
            "_________________________________________________________________\n",
            "dense_1 (Dense)              (None, 120)               28920     \n",
            "_________________________________________________________________\n",
            "dropout_1 (Dropout)          (None, 120)               0         \n",
            "_________________________________________________________________\n",
            "dense_2 (Dense)              (None, 64)                7744      \n",
            "_________________________________________________________________\n",
            "dense_3 (Dense)              (None, 1)                 65        \n",
            "=================================================================\n",
            "Total params: 152,169\n",
            "Trainable params: 152,169\n",
            "Non-trainable params: 0\n",
            "_________________________________________________________________\n"
          ]
        }
      ]
    },
    {
      "cell_type": "code",
      "metadata": {
        "id": "dQ_GQP2PkFRI"
      },
      "source": [
        "opt = Adam(learning_rate=0.001)\n",
        "model.compile(optimizer=opt, loss='mean_squared_error', metrics=['mean_squared_error'])\n",
        "\n",
        "earlyStop = EarlyStopping(monitor='val_loss', verbose=True, patience=10)\n",
        "rnnip_mChkPt = ModelCheckpoint('rnn_weights.h5',monitor='val_loss', verbose=True,\n",
        "                               save_best_only=True,\n",
        "                               save_weights_only=True)\n",
        "nEpochs = 2000\n",
        "\n",
        "rnn_hist = model.fit(X_train_all_input,Y_train_01, epochs=nEpochs, batch_size=128,validation_split=0.2,\n",
        "                 callbacks=[earlyStop, rnnip_mChkPt])"
      ],
      "execution_count": null,
      "outputs": []
    },
    {
      "cell_type": "code",
      "metadata": {
        "id": "Bw5dsal5al1j"
      },
      "source": [
        "keras.backend.clear_session()"
      ],
      "execution_count": null,
      "outputs": []
    },
    {
      "cell_type": "code",
      "metadata": {
        "colab": {
          "base_uri": "https://localhost:8080/"
        },
        "id": "92snH0QKambY",
        "outputId": "6a62b67a-2b1d-4b44-815b-2cb8e9c1361f"
      },
      "source": [
        "#predictions\n",
        "\n",
        "ypred= model.predict(X_test_all_input,batch_size=128).flatten()\n",
        "print (ypred.shape)"
      ],
      "execution_count": null,
      "outputs": [
        {
          "output_type": "stream",
          "name": "stdout",
          "text": [
            "(36547,)\n"
          ]
        }
      ]
    },
    {
      "cell_type": "code",
      "metadata": {
        "colab": {
          "base_uri": "https://localhost:8080/"
        },
        "id": "X-bNMHmlayBi",
        "outputId": "e8d37210-6fa8-4c25-9abe-ab7ac21cfaa7"
      },
      "source": [
        "ypred_train= model.predict(X_test_all_input,batch_size=128).flatten()\n",
        "print (ypred_train.shape)"
      ],
      "execution_count": null,
      "outputs": [
        {
          "output_type": "stream",
          "name": "stdout",
          "text": [
            "(36547,)\n"
          ]
        }
      ]
    },
    {
      "cell_type": "code",
      "metadata": {
        "colab": {
          "base_uri": "https://localhost:8080/",
          "height": 313
        },
        "id": "OFYa03Cua5Jk",
        "outputId": "ce5878f0-3fb7-4f23-fdd1-884307e736aa"
      },
      "source": [
        "#plot###\n",
        "\n",
        "epochs = np.arange(1,len(rnn_hist.history['loss'])+1)\n",
        "plt.plot(epochs,rnn_hist.history['loss'],label='training')\n",
        "plt.plot(epochs,rnn_hist.history['val_loss'],label='validation')\n",
        "plt.xlim([0, len(rnn_hist.history['loss'])+1])\n",
        "plt.xlabel('epochs',fontsize=14)\n",
        "plt.ylabel('loss',fontsize=14)\n",
        "plt.legend()\n",
        "plt.text(45,1.*1e7, r'6ji4bi@70%', fontsize=8)\n",
        "plt.text(45,0.8*1e7, r'-Input Normalized', fontsize=9)\n",
        "plt.title('All inputs')\n",
        "plt.show()"
      ],
      "execution_count": null,
      "outputs": [
        {
          "output_type": "display_data",
          "data": {
            "image/png": "[encoded data removed]",
            "text/plain": [
              "<Figure size 432x288 with 1 Axes>"
            ]
          },
          "metadata": {
            "needs_background": "light"
          }
        }
      ]
    },
    {
      "cell_type": "code",
      "metadata": {
        "colab": {
          "base_uri": "https://localhost:8080/",
          "height": 295
        },
        "id": "mL4j_vPjbBlY",
        "outputId": "3257874d-35c6-413d-d7ac-f3e9aed897b7"
      },
      "source": [
        "plt.xlabel('Higgs pT [GEV]')\n",
        "plt.hist(Y_test_01/1000, bins=np.linspace(0,600,60), color='gray', alpha=0.3, fill='tozeroy', hatch = '////',linewidth=2, label='test - Truth')\n",
        "#plt.hist(X_test_best_higgs_pt_withH/1000, bins=np.linspace(0,600,60),histtype='step', linewidth=2.5, label='test - RecoBDT')\n",
        "plt.hist(ypred/1000, bins=np.linspace(0,600,60),histtype='step', linewidth=2.5, label='test - RNN')\n",
        "plt.text(420,2800, r'6ji4bi@70%', fontsize=8)\n",
        "plt.text(420,2500, r'Normalized', fontsize=8)\n",
        "plt.title('All inputs')\n",
        "plt.legend()\n",
        "plt.show()"
      ],
      "execution_count": null,
      "outputs": [
        {
          "output_type": "display_data",
          "data": {
            "image/png": "[encoded data removed]",
            "text/plain": [
              "<Figure size 432x288 with 1 Axes>"
            ]
          },
          "metadata": {
            "needs_background": "light"
          }
        }
      ]
    },
    {
      "cell_type": "code",
      "metadata": {
        "id": "-uNcHGrUbTG6"
      },
      "source": [
        "plt.xlabel('Higgs pT [GEV]')\n",
        "plt.hist(Y_train_01/1000, bins=np.linspace(0,600,60), color='gray', alpha=0.3, fill='tozeroy', hatch = '////',linewidth=2, label='train - Truth')\n",
        "#plt.hist(X_train_best_higgs_pt_withH/1000, bins=np.linspace(0,600,60),histtype='step', linewidth=2.5, label='train - RecoBDT')\n",
        "plt.hist(ypred_train/1000, bins=np.linspace(0,600,60),histtype='step', linewidth=2.5, label='train - RNN')\n",
        "plt.text(420,2700, r'6ji4bi@70%', fontsize=8)\n",
        "plt.text(420,2500, r'Normalized', fontsize=8)\n",
        "plt.title('All inputs')\n",
        "plt.legend()\n",
        "plt.show()"
      ],
      "execution_count": null,
      "outputs": []
    },
    {
      "cell_type": "code",
      "metadata": {
        "colab": {
          "base_uri": "https://localhost:8080/",
          "height": 283
        },
        "id": "YEBxRZTqbYlN",
        "outputId": "16b9e745-d94a-40b1-b943-1628f25c3aa4"
      },
      "source": [
        "sample2a = Y_test_01/1000-(ypred/1000)\n",
        "plt.xlabel('Truth - Predictions')\n",
        "\n",
        "plt.hist(sample2a, bins=50, density=True, histtype='step',linewidth=2.5,label='test - RNN')\n",
        "\n",
        "rms2a = np.sqrt(np.mean(sample2a**2))\n",
        "\n",
        "plt.title('')\n",
        "plt.xlim([-400, 400])\n",
        "plt.ylim([0, 0.008])\n",
        "plt.text(250,0.006, r'6ji4bi@70%', fontsize=8)\n",
        "plt.text(250,0.0055, r'Normalized', fontsize=8)\n",
        "plt.text(90,0.004, r\"RNN: RMS/std = %.2f\" % (rms2a), fontsize=11)\n",
        "\n",
        "plt.legend()\n",
        "plt.show()"
      ],
      "execution_count": null,
      "outputs": [
        {
          "output_type": "display_data",
          "data": {
            "image/png": "[encoded data removed]",
            "text/plain": [
              "<Figure size 432x288 with 1 Axes>"
            ]
          },
          "metadata": {
            "needs_background": "light"
          }
        }
      ]
    },
    {
      "cell_type": "code",
      "metadata": {
        "colab": {
          "base_uri": "https://localhost:8080/",
          "height": 285
        },
        "id": "8NacirhnbdpN",
        "outputId": "0ded9726-3b66-4fb7-d72b-cb060cea0e01"
      },
      "source": [
        "##2D scatter plot\n",
        "\n",
        "ypred1a = ypred/1000\n",
        "Y_test1a = Y_test_01/1000\n",
        "\n",
        "plt.hist2d(Y_test1a,ypred1a, bins = 50,norm=mpl.colors.LogNorm())\n",
        "plt.xlim([0, 800])\n",
        "plt.ylim([0, 800])\n",
        "plt.text(500,750, r'6ji4bi@70%', fontsize=8)\n",
        "plt.xlabel('Truth')\n",
        "plt.ylabel('Prediction')\n",
        "plt.plot(Y_test1a,Y_test1a,'k-')\n",
        "plt.colorbar()\n",
        "\n",
        "\n",
        "plt.show()"
      ],
      "execution_count": null,
      "outputs": [
        {
          "output_type": "display_data",
          "data": {
            "image/png": "[encoded data removed]",
            "text/plain": [
              "<Figure size 432x288 with 2 Axes>"
            ]
          },
          "metadata": {
            "needs_background": "light"
          }
        }
      ]
    },
    {
      "cell_type": "code",
      "metadata": {
        "colab": {
          "base_uri": "https://localhost:8080/",
          "height": 283
        },
        "id": "eRu5kqDybncx",
        "outputId": "a689f398-b572-4f97-be1e-a36410a5b125"
      },
      "source": [
        "plt.hist2d(Y_test_01/1000, ypred/1000 - Y_test_01/1000, bins = 50,norm=mpl.colors.LogNorm())\n",
        "plt.xlim([0, 800])\n",
        "plt.ylim([-800, 800])\n",
        "plt.text(600,650, r'6ji4bi@70%', fontsize=8)\n",
        "plt.xlabel('Truth')\n",
        "plt.ylabel('Prediction - Truth')\n",
        "plt.colorbar()\n",
        "plt.show()"
      ],
      "execution_count": null,
      "outputs": [
        {
          "output_type": "display_data",
          "data": {
            "image/png": "[encoded data removed]",
            "text/plain": [
              "<Figure size 432x288 with 2 Axes>"
            ]
          },
          "metadata": {
            "needs_background": "light"
          }
        }
      ]
    },
    {
      "cell_type": "code",
      "metadata": {
        "colab": {
          "base_uri": "https://localhost:8080/",
          "height": 283
        },
        "id": "fbPkbDUhbrxs",
        "outputId": "a93e4ee0-565a-4c1c-c284-8b982c026b06"
      },
      "source": [
        "bins_list = [0, 120, 200, 300, 450, 600]\n",
        "\n",
        "x1a = np.array(ypred/1000) # create random data points\n",
        "y1a = np.array(Y_test_01/1000)\n",
        "\n",
        "fig, ax = plt.subplots()\n",
        "hist1a, xbins1a, ybins1a, im = ax.hist2d(x1a, y1a, bins=bins_list)\n",
        "hist1a *= 1 / hist1a.sum(axis=0)\n",
        "\n",
        "for j in range(len(ybins1a)-1):\n",
        "    for i in range(len(xbins1a)-1):\n",
        "       ax.text(xbins1a[j]+0.5,ybins1a[i]+0.5, r\"%.2f\" %(hist1a.T[j,i]), \n",
        "                color=\"w\", fontweight=\"bold\")\n",
        "plt.xlabel('Truth')\n",
        "plt.ylabel('Prediction')\n",
        "plt.show()"
      ],
      "execution_count": null,
      "outputs": [
        {
          "output_type": "display_data",
          "data": {
            "image/png": "[encoded data removed]",
            "text/plain": [
              "<Figure size 432x288 with 1 Axes>"
            ]
          },
          "metadata": {
            "needs_background": "light"
          }
        }
      ]
    },
    {
      "cell_type": "code",
      "metadata": {
        "id": "z4lsnRrdb2uj"
      },
      "source": [
        "def compute_profile(x, y, nbin=(100,100)):\n",
        "    \n",
        "    # use of the 2d hist by numpy to avoid plotting\n",
        "    h, xe, ye = np.histogram2d(x,y,nbin)\n",
        "    \n",
        "    # bin width\n",
        "    xbinw = xe[1]-xe[0]\n",
        "\n",
        "    # getting the mean and RMS values of each vertical slice of the 2D distribution\n",
        "    # also the x valuse should be recomputed because of the possibility of empty slices\n",
        "    x_array      = []\n",
        "    x_slice_mean = []\n",
        "    x_slice_rms  = []\n",
        "    for i in range(xe.size-1):\n",
        "        yvals = y[ (x>xe[i]) & (x<=xe[i+1]) ]\n",
        "        if yvals.size>0: # do not fill the quanties for empty slices\n",
        "            x_array.append(xe[i]+ xbinw/2)\n",
        "            x_slice_mean.append( yvals.mean())\n",
        "            x_slice_rms.append( yvals.std())\n",
        "    x_array = np.array(x_array)\n",
        "    x_slice_mean = np.array(x_slice_mean)\n",
        "    x_slice_rms = np.array(x_slice_rms)\n",
        "\n",
        "    return x_array, x_slice_mean, x_slice_rms"
      ],
      "execution_count": null,
      "outputs": []
    },
    {
      "cell_type": "code",
      "metadata": {
        "colab": {
          "base_uri": "https://localhost:8080/",
          "height": 283
        },
        "id": "TxrkCuX8b258",
        "outputId": "4a8e4eef-60d6-49b0-dde8-86c4cd17012f"
      },
      "source": [
        "#compute the profile\n",
        "p_xa, p_meana, p_rmsa = compute_profile(Y_test_01/1000, ypred/1000 - Y_test_01/1000,(50,50))\n",
        "\n",
        "plt.errorbar(p_xa, p_meana, p_rmsa, fmt='_', ecolor='b', color='r')\n",
        "plt.text(600,650, r'6ji4bi@70%', fontsize=8)\n",
        "plt.text(600,500, r' - mean, std', fontsize=10)\n",
        "plt.xlim([0, 800])\n",
        "plt.ylim([-800, 800])\n",
        "plt.xlabel('Truth [GEV]')\n",
        "plt.ylabel('Prediction - Truth')\n",
        "plt.show()"
      ],
      "execution_count": null,
      "outputs": [
        {
          "output_type": "display_data",
          "data": {
            "image/png": "[encoded data removed]",
            "text/plain": [
              "<Figure size 432x288 with 1 Axes>"
            ]
          },
          "metadata": {
            "needs_background": "light"
          }
        }
      ]
    }
  ]
}