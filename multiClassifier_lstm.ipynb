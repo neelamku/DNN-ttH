{
  "nbformat": 4,
  "nbformat_minor": 0,
  "metadata": {
    "colab": {
      "name": "multiClassifier_lstm.ipynb",
      "provenance": [],
      "collapsed_sections": [],
      "authorship_tag": "ABX9TyO+C4zl0jwZbS9ohGdS1Qus",
      "include_colab_link": true
    },
    "kernelspec": {
      "name": "python3",
      "display_name": "Python 3"
    },
    "language_info": {
      "name": "python"
    }
  },
  "cells": [
    {
      "cell_type": "markdown",
      "metadata": {
        "id": "view-in-github",
        "colab_type": "text"
      },
      "source": [
        "<a href=\"https://colab.research.google.com/github/neelamku/DNN-ttH/blob/main/multiClassifier_lstm.ipynb\" target=\"_parent\"><img src=\"https://colab.research.google.com/assets/colab-badge.svg\" alt=\"Open In Colab\"/></a>"
      ]
    },
    {
      "cell_type": "code",
      "metadata": {
        "colab": {
          "base_uri": "https://localhost:8080/"
        },
        "id": "OY6RvzNTfm4w",
        "outputId": "fe46fd9d-409b-44f3-bd41-194f9bd209fe"
      },
      "source": [
        "!pip install uproot3\n",
        "!pip install uproot"
      ],
      "execution_count": null,
      "outputs": [
        {
          "output_type": "stream",
          "name": "stdout",
          "text": [
            "Collecting uproot3\n",
            "  Downloading uproot3-3.14.4-py3-none-any.whl (117 kB)\n",
            "\u001b[K     |████████████████████████████████| 117 kB 10.2 MB/s \n",
            "\u001b[?25hCollecting awkward0\n",
            "  Downloading awkward0-0.15.5-py3-none-any.whl (87 kB)\n",
            "\u001b[K     |████████████████████████████████| 87 kB 2.7 MB/s \n",
            "\u001b[?25hRequirement already satisfied: cachetools in /usr/local/lib/python3.7/dist-packages (from uproot3) (4.2.2)\n",
            "Requirement already satisfied: numpy>=1.13.1 in /usr/local/lib/python3.7/dist-packages (from uproot3) (1.19.5)\n",
            "Collecting uproot3-methods\n",
            "  Downloading uproot3_methods-0.10.1-py3-none-any.whl (32 kB)\n",
            "Installing collected packages: awkward0, uproot3-methods, uproot3\n",
            "Successfully installed awkward0-0.15.5 uproot3-3.14.4 uproot3-methods-0.10.1\n",
            "Collecting uproot\n",
            "  Downloading uproot-4.1.1-py2.py3-none-any.whl (289 kB)\n",
            "\u001b[K     |████████████████████████████████| 289 kB 7.8 MB/s \n",
            "\u001b[?25hRequirement already satisfied: setuptools in /usr/local/lib/python3.7/dist-packages (from uproot) (57.4.0)\n",
            "Requirement already satisfied: numpy in /usr/local/lib/python3.7/dist-packages (from uproot) (1.19.5)\n",
            "Installing collected packages: uproot\n",
            "Successfully installed uproot-4.1.1\n"
          ]
        }
      ]
    },
    {
      "cell_type": "code",
      "metadata": {
        "colab": {
          "base_uri": "https://localhost:8080/"
        },
        "id": "ZlSKY5RQfxAZ",
        "outputId": "ce6d902f-29cc-4d3c-cde2-d7c9f3fa0e99"
      },
      "source": [
        "from google.colab import drive\n",
        "drive.mount('/content/drive')"
      ],
      "execution_count": null,
      "outputs": [
        {
          "output_type": "stream",
          "name": "stdout",
          "text": [
            "Mounted at /content/drive\n"
          ]
        }
      ]
    },
    {
      "cell_type": "code",
      "metadata": {
        "id": "zeNzBzekf1SD"
      },
      "source": [
        "import h5py\n",
        "import numpy as np\n",
        "import pandas as pd\n",
        "import json\n",
        "import os\n",
        "import uproot3\n",
        "import uproot\n",
        "\n",
        "#root to arrays\n",
        "\n",
        "tree = uproot3.open(\"/content/drive/MyDrive/Colab Notebooks/rnn_comb.root\")[\"nominal_Loose_new\"]\n",
        "tree1 = uproot3.open(\"/content/drive/MyDrive/Colab Notebooks/rnn_rewg_latest.root\")[\"nominal_Loose_new\"]\n",
        "\n",
        "m_truthpt_weights = tree1[\"truthpt_weights\"].array()\n",
        "\n",
        "m_higgs_truthPt = tree[\"higgs_truthPt\"].array()\n",
        "m_comb_higgs_truthPt = tree[\"comb_higgs_truthPt\"].array()\n",
        "m_best_higgs_Pt = tree[\"best_higgs_Pt\"].array()\n",
        "m_comb_best_higgs_Pt = tree[\"comb_best_higgs_Pt\"].array()\n",
        "m_best_higgs_Pt_withH = tree[\"best_higgs_Pt_withH\"].array()\n",
        "m_comb_best_higgs_Pt_withH = tree[\"comb_best_higgs_Pt_withH\"].array()\n",
        "\n",
        "m_nBTags_DL1r85 = tree[\"nBTags_DL1r85\"].array()\n",
        "m_nBTags_DL1r70 = tree[\"nBTags_DL1r70\"].array()\n",
        "\n",
        "m_higgs_pt = tree[\"comb_higgs_pt\"].array()\n",
        "m_higgs_mass = tree[\"comb_higgs_mass\"].array()\n",
        "m_hadW_mass = tree[\"comb_hadW_mass\"].array()\n",
        "m_hadtop_mass = tree[\"comb_hadtop_mass\"].array()\n",
        "m_leptop_mass = tree[\"comb_leptop_mass\"].array()\n",
        "m_hadWblepTop_mass = tree[\"comb_hadWblepTop_mass\"].array()\n",
        "m_minbhadTopqhadW_dR = tree[\"comb_minbhadTopqhadW_dR\"].array()\n",
        "m_hadWblepTop_dR = tree[\"comb_hadWblepTop_dR\"].array()\n",
        "m_blepTopbhadTop_dR = tree[\"comb_blepTopbhadTop_dR\"].array()\n",
        "m_bhadTopq2hadW_dR = tree[\"comb_bhadTopq2hadW_dR\"].array()\n",
        "m_hadWbhadTop_dR = tree[\"comb_hadWbhadTop_dR\"].array()\n",
        "m_Higgsq1hadW_mass = tree[\"comb_Higgsq1hadW_mass\"].array()\n",
        "m_bbHiggs_dR = tree[\"comb_bbHiggs_dR\"].array()\n",
        "m_bhadTopq1hadW_dR = tree[\"comb_bhadTopq1hadW_dR\"].array()\n",
        "m_qqhadW_dR = tree[\"comb_qqhadW_dR\"].array()\n",
        "m_diff_mindRbhadTopqhadW_dRlepblepTop = tree[\"comb_diff_mindRbhadTopqhadW_dRlepblepTop\"].array()\n",
        "m_lepbhadTop_dR = tree[\"comb_lepbhadTop_dR\"].array()\n",
        "m_lepb1Higgs_dR = tree[\"comb_lepb1Higgs_dR\"].array()\n",
        "m_lepWbhadTop_mass = tree[\"comb_lepWbhadTop_mass\"].array()\n",
        "m_lepblepTop_dR = tree[\"comb_lepblepTop_dR\"].array()"
      ],
      "execution_count": null,
      "outputs": []
    },
    {
      "cell_type": "code",
      "metadata": {
        "colab": {
          "base_uri": "https://localhost:8080/"
        },
        "id": "dPFhPGPVgaor",
        "outputId": "c4b28161-9c5d-41b6-ec0b-ae9a5dbf1388"
      },
      "source": [
        "#prepare data###\n",
        "\n",
        "in_higgs_truthPt = []\n",
        "in_best_higgs_Pt_withH = []\n",
        "\n",
        "#20 variables for input\n",
        "\n",
        "varList = []\n",
        "in_higgs_pt = []\n",
        "in_higgs_mass = []\n",
        "in_hadW_mass = []\n",
        "in_hadtop_mass = []\n",
        "in_leptop_mass = []\n",
        "in_hadWblepTop_mass = []\n",
        "in_minbhadTopqhadW_dR = []\n",
        "in_hadWblepTop_dR = []\n",
        "in_blepTopbhadTop_dR = []\n",
        "in_bhadTopq2hadW_dR = []\n",
        "in_hadWbhadTop_dR = []\n",
        "in_Higgsq1hadW_mass = []\n",
        "in_bbHiggs_dR = []\n",
        "in_bhadTopq1hadW_dR = []\n",
        "in_qqhadW_dR = []\n",
        "in_diff_mindRbhadTopqhadW_dRlepblepTop = []\n",
        "in_lepbhadTop_dR = []\n",
        "in_lepb1Higgs_dR = []\n",
        "in_lepWbhadTop_mass = []\n",
        "in_lepblepTop_dR = []\n",
        "\n",
        "\n",
        "### BTag selections\n",
        "in_nBTags_DL1r85 = []\n",
        "in_nBTags_DL1r70 = []\n",
        "\n",
        "### Truth pT weights\n",
        "in_truthpt_weights = []\n",
        "\n",
        "### count \n",
        "pass_no = 0\n",
        "count = []\n",
        "\n",
        "### put selections and fill only those events\n",
        "\n",
        "for i in range(0,len(m_higgs_truthPt)):\n",
        "  if (m_higgs_truthPt[i]>0): \n",
        "   if (m_nBTags_DL1r70[i]>=4):\n",
        "    if (len(m_higgs_pt[i])>0): #select events with 12/24 combinations\n",
        "\n",
        "      pass_no = pass_no + 1\n",
        "      count.append(pass_no)\n",
        "\n",
        "      ###fill inputs here\n",
        "\n",
        "      in_higgs_truthPt.append(m_higgs_truthPt[i])\n",
        "      in_best_higgs_Pt_withH.append(m_best_higgs_Pt_withH[i])\n",
        "  \n",
        "      ###\n",
        "\n",
        "      in_higgs_pt.append(m_higgs_pt[i])\n",
        "      in_higgs_mass.append(m_higgs_mass[i])\n",
        "      in_hadW_mass.append(m_hadW_mass[i])\n",
        "      in_hadtop_mass.append(m_hadtop_mass[i])\n",
        "      in_leptop_mass.append(m_leptop_mass[i])\n",
        "      in_hadWblepTop_mass.append(m_hadWblepTop_mass[i])\n",
        "      in_minbhadTopqhadW_dR.append(m_minbhadTopqhadW_dR[i])\n",
        "      in_hadWblepTop_dR.append(m_hadWblepTop_dR[i])\n",
        "      in_blepTopbhadTop_dR.append(m_blepTopbhadTop_dR[i])\n",
        "      in_bhadTopq2hadW_dR.append(m_bhadTopq2hadW_dR[i])\n",
        "      in_hadWbhadTop_dR.append(m_hadWbhadTop_dR[i])\n",
        "      in_Higgsq1hadW_mass.append(m_Higgsq1hadW_mass[i])\n",
        "      in_bbHiggs_dR.append(m_bbHiggs_dR[i])\n",
        "      in_bhadTopq1hadW_dR.append(m_bhadTopq1hadW_dR[i])\n",
        "      in_qqhadW_dR.append(m_qqhadW_dR[i])\n",
        "      in_diff_mindRbhadTopqhadW_dRlepblepTop.append(m_diff_mindRbhadTopqhadW_dRlepblepTop[i])\n",
        "      in_lepbhadTop_dR.append(m_lepbhadTop_dR[i])\n",
        "      in_lepb1Higgs_dR.append(m_lepb1Higgs_dR[i])\n",
        "      in_lepWbhadTop_mass.append(m_lepWbhadTop_mass[i])\n",
        "      in_lepblepTop_dR.append(m_lepblepTop_dR[i])\n",
        "         \n",
        "      ###\n",
        "      \n",
        "      in_truthpt_weights.append(m_truthpt_weights[i])\n",
        "\n",
        "a1 = len(count)\n",
        "print (a1)"
      ],
      "execution_count": null,
      "outputs": [
        {
          "output_type": "stream",
          "name": "stdout",
          "text": [
            "73094\n"
          ]
        }
      ]
    },
    {
      "cell_type": "code",
      "metadata": {
        "colab": {
          "base_uri": "https://localhost:8080/"
        },
        "id": "frfyliSIgbLP",
        "outputId": "7eef0de1-8b2a-43fc-fe01-7912d2f58d66"
      },
      "source": [
        "#make fixed length for inputs\n",
        "\n",
        "import tensorflow as tf\n",
        "from sklearn.preprocessing import MinMaxScaler\n",
        "from sklearn.preprocessing import StandardScaler\n",
        "\n",
        "varOrder = [in_higgs_pt,in_higgs_mass,in_hadW_mass,in_hadtop_mass,in_leptop_mass,in_hadWblepTop_mass,in_minbhadTopqhadW_dR,in_hadWblepTop_dR,in_blepTopbhadTop_dR,in_bhadTopq2hadW_dR,in_hadWbhadTop_dR,in_Higgsq1hadW_mass,in_bbHiggs_dR,in_bhadTopq1hadW_dR,in_qqhadW_dR,in_diff_mindRbhadTopqhadW_dRlepblepTop,in_lepbhadTop_dR,in_lepb1Higgs_dR,in_lepWbhadTop_mass,in_lepblepTop_dR]\n",
        "padded_input = []\n",
        "\n",
        "for j in range(0,len(varOrder)):\n",
        "  padded_input.append(tf.keras.preprocessing.sequence.pad_sequences(varOrder[j], padding=\"post\",dtype='float32'))\n",
        "\n",
        "X_sig = np.array(padded_input)\n",
        "X_sig_all_input = np.transpose(X_sig, (1, 2, 0))\n",
        "print (X_sig_all_input.shape)\n",
        "\n",
        "#mask zero from normalization\n",
        "#uncomment if normalize\n",
        "\n",
        "nz = np.any(X_sig_all_input, -1)\n",
        "X_sig_all_input[nz] = StandardScaler().fit_transform(X_sig_all_input[nz])\n",
        "\n",
        "#print(X_sig_all_input[:10])"
      ],
      "execution_count": null,
      "outputs": [
        {
          "output_type": "stream",
          "name": "stdout",
          "text": [
            "(73094, 24, 20)\n"
          ]
        }
      ]
    },
    {
      "cell_type": "code",
      "metadata": {
        "colab": {
          "base_uri": "https://localhost:8080/"
        },
        "id": "Ubz8JS0UgkqA",
        "outputId": "8259b8be-68bc-408c-a1b0-3c9125a69ee6"
      },
      "source": [
        "##target\n",
        "Y_sig = np.copy(in_higgs_truthPt)\n",
        "print (Y_sig.shape)\n",
        "\n",
        "## best higgs pT\n",
        "X_sig_best_higgs_pt_withH = np.copy(in_best_higgs_Pt_withH)\n",
        "\n",
        "##weights\n",
        "rewg_weights = np.copy(in_truthpt_weights)"
      ],
      "execution_count": null,
      "outputs": [
        {
          "output_type": "stream",
          "name": "stdout",
          "text": [
            "(73094,)\n"
          ]
        }
      ]
    },
    {
      "cell_type": "code",
      "metadata": {
        "id": "5jOX-noPglWw"
      },
      "source": [
        "###make classes \n",
        "\n",
        "y_classes_truth = []\n",
        "\n",
        "for j in range(0,len(Y_sig)):\n",
        "  if Y_sig[j]>=0 and Y_sig[j]<=120000:\n",
        "    y_classes_truth.append(0)\n",
        "  if Y_sig[j]>120000 and Y_sig[j]<=200000:\n",
        "    y_classes_truth.append(1)  \n",
        "  if Y_sig[j]>200000 and Y_sig[j]<=300000:\n",
        "    y_classes_truth.append(2) \n",
        "  if Y_sig[j]>300000 and Y_sig[j]<=450000:\n",
        "    y_classes_truth.append(3)   \n",
        "  if Y_sig[j]>450000:\n",
        "    y_classes_truth.append(4)   \n",
        "\n",
        "Y_sig_class = np.copy(y_classes_truth)\n",
        "#print (Y_sig_class.shape)\n",
        "\n",
        "from keras.utils import np_utils\n",
        "Y_sig_class_cat = np_utils.to_categorical(Y_sig_class, 5)\n",
        "\n",
        "#print (y_classes_truth[:10])\n",
        "#print (Y_sig[:10])\n",
        "#print (Y_sig_class_cat[:10])"
      ],
      "execution_count": null,
      "outputs": []
    },
    {
      "cell_type": "code",
      "metadata": {
        "id": "XarbSdBuguLo"
      },
      "source": [
        "##split data: train and test\n",
        "\n",
        "from sklearn.model_selection import train_test_split\n",
        "\n",
        "#signal 01\n",
        "X_train_all_input, X_test_all_input, Y_train_01, Y_test_01 =  train_test_split(X_sig_all_input, Y_sig_class_cat, test_size=0.50, random_state=42 )\n",
        "\n"
      ],
      "execution_count": null,
      "outputs": []
    },
    {
      "cell_type": "code",
      "metadata": {
        "colab": {
          "base_uri": "https://localhost:8080/"
        },
        "id": "WOBVOv8hhVCY",
        "outputId": "5701264a-73a5-44c0-9f3a-0443aefcc8e2"
      },
      "source": [
        "## import functions\n",
        "\n",
        "import keras\n",
        "import tensorflow as tf\n",
        "from keras.layers import BatchNormalization, Layer, TimeDistributed, Dropout\n",
        "from keras.layers import Dense, Input, ReLU, Masking, LSTM, Embedding, Lambda, Bidirectional, Flatten\n",
        "from keras.models import Model\n",
        "\n",
        "from keras.callbacks import EarlyStopping, ModelCheckpoint\n",
        "from tensorflow.keras.layers.experimental import preprocessing\n",
        "from keras import backend as K\n",
        "from keras.models import Sequential\n",
        "from tensorflow.keras.optimizers import Adam, SGD, RMSprop\n",
        "\n",
        "import matplotlib as mpl\n",
        "import matplotlib.pyplot as plt\n",
        "from numpy.polynomial.polynomial import polyfit\n",
        "import statsmodels.api as sm\n",
        "\n",
        "#from numpy.random import seed\n",
        "#seed(1)\n",
        "#import tensorflow\n",
        "#tensorflow.random.set_seed(2)"
      ],
      "execution_count": null,
      "outputs": [
        {
          "output_type": "stream",
          "name": "stderr",
          "text": [
            "/usr/local/lib/python3.7/dist-packages/statsmodels/tools/_testing.py:19: FutureWarning: pandas.util.testing is deprecated. Use the functions in the public API at pandas.testing instead.\n",
            "  import pandas.util.testing as tm\n"
          ]
        }
      ]
    },
    {
      "cell_type": "code",
      "metadata": {
        "id": "8rZfh_PShYCs"
      },
      "source": [
        "in_inputs = Input(shape=(24,20),name=\"in_inputs\")\n",
        "masked_input = Masking(mask_value=0)(in_inputs)\n",
        "\n",
        "# Feed this merged layer to an RNN\n",
        "lstm = LSTM(100, return_sequences=False, name='LSTM')(masked_input)\n",
        "dpt = Dropout(rate=0.2)(lstm)\n",
        "\n",
        "my_inputs = in_inputs\n",
        "\n",
        "# Fully connected layer\n",
        "FC = Dense(20, activation='relu', name=\"Dense\")(dpt)\n",
        "\n",
        "# Softmax for classification\n",
        "output = Dense(5, activation='softmax', name=\"output\")(FC)\n",
        "model = Model(inputs=my_inputs, outputs=output)"
      ],
      "execution_count": null,
      "outputs": []
    },
    {
      "cell_type": "code",
      "metadata": {
        "colab": {
          "base_uri": "https://localhost:8080/"
        },
        "id": "UdqYEEHXhdyB",
        "outputId": "521bbaed-98be-4129-9b88-640e0fe8cc65"
      },
      "source": [
        "opt = Adam(learning_rate=0.01)\n",
        "model.compile(optimizer=opt,loss='categorical_crossentropy', metrics=['accuracy'])\n",
        "\n",
        "earlyStop = EarlyStopping(monitor='val_loss', verbose=True, patience=10)\n",
        "rnnip_mChkPt = ModelCheckpoint('multiClass_weights.h5',monitor='val_loss', verbose=True,\n",
        "                               save_best_only=True,\n",
        "                               save_weights_only=True)\n",
        "nEpochs = 2000\n",
        "\n",
        "multiClass_hist = model.fit(X_train_all_input,Y_train_01, epochs=nEpochs, batch_size=256,validation_split=0.2,\n",
        "                 callbacks=[earlyStop, rnnip_mChkPt])"
      ],
      "execution_count": null,
      "outputs": [
        {
          "output_type": "stream",
          "name": "stdout",
          "text": [
            "Epoch 1/2000\n",
            "115/115 [==============================] - 18s 124ms/step - loss: 0.9915 - accuracy: 0.5524 - val_loss: 0.9320 - val_accuracy: 0.5885\n",
            "\n",
            "Epoch 00001: val_loss improved from inf to 0.93203, saving model to multiClass_weights.h5\n",
            "Epoch 2/2000\n",
            "115/115 [==============================] - 12s 104ms/step - loss: 0.9108 - accuracy: 0.5930 - val_loss: 0.9094 - val_accuracy: 0.5951\n",
            "\n",
            "Epoch 00002: val_loss improved from 0.93203 to 0.90938, saving model to multiClass_weights.h5\n",
            "Epoch 3/2000\n",
            "115/115 [==============================] - 12s 105ms/step - loss: 0.8817 - accuracy: 0.6129 - val_loss: 0.8917 - val_accuracy: 0.6144\n",
            "\n",
            "Epoch 00003: val_loss improved from 0.90938 to 0.89167, saving model to multiClass_weights.h5\n",
            "Epoch 4/2000\n",
            "115/115 [==============================] - 12s 106ms/step - loss: 0.8560 - accuracy: 0.6293 - val_loss: 0.8748 - val_accuracy: 0.6246\n",
            "\n",
            "Epoch 00004: val_loss improved from 0.89167 to 0.87476, saving model to multiClass_weights.h5\n",
            "Epoch 5/2000\n",
            "115/115 [==============================] - 12s 106ms/step - loss: 0.8302 - accuracy: 0.6429 - val_loss: 0.8768 - val_accuracy: 0.6286\n",
            "\n",
            "Epoch 00005: val_loss did not improve from 0.87476\n",
            "Epoch 6/2000\n",
            "115/115 [==============================] - 12s 104ms/step - loss: 0.8125 - accuracy: 0.6520 - val_loss: 0.8599 - val_accuracy: 0.6393\n",
            "\n",
            "Epoch 00006: val_loss improved from 0.87476 to 0.85992, saving model to multiClass_weights.h5\n",
            "Epoch 7/2000\n",
            "115/115 [==============================] - 12s 105ms/step - loss: 0.7872 - accuracy: 0.6633 - val_loss: 0.8539 - val_accuracy: 0.6425\n",
            "\n",
            "Epoch 00007: val_loss improved from 0.85992 to 0.85391, saving model to multiClass_weights.h5\n",
            "Epoch 8/2000\n",
            "115/115 [==============================] - 12s 106ms/step - loss: 0.7677 - accuracy: 0.6742 - val_loss: 0.8425 - val_accuracy: 0.6443\n",
            "\n",
            "Epoch 00008: val_loss improved from 0.85391 to 0.84251, saving model to multiClass_weights.h5\n",
            "Epoch 9/2000\n",
            "115/115 [==============================] - 12s 107ms/step - loss: 0.7503 - accuracy: 0.6835 - val_loss: 0.8541 - val_accuracy: 0.6460\n",
            "\n",
            "Epoch 00009: val_loss did not improve from 0.84251\n",
            "Epoch 10/2000\n",
            "115/115 [==============================] - 13s 114ms/step - loss: 0.7290 - accuracy: 0.6922 - val_loss: 0.8584 - val_accuracy: 0.6376\n",
            "\n",
            "Epoch 00010: val_loss did not improve from 0.84251\n",
            "Epoch 11/2000\n",
            "115/115 [==============================] - 12s 108ms/step - loss: 0.7102 - accuracy: 0.7060 - val_loss: 0.8535 - val_accuracy: 0.6472\n",
            "\n",
            "Epoch 00011: val_loss did not improve from 0.84251\n",
            "Epoch 12/2000\n",
            "115/115 [==============================] - 12s 108ms/step - loss: 0.6897 - accuracy: 0.7123 - val_loss: 0.8752 - val_accuracy: 0.6390\n",
            "\n",
            "Epoch 00012: val_loss did not improve from 0.84251\n",
            "Epoch 13/2000\n",
            "115/115 [==============================] - 12s 107ms/step - loss: 0.6713 - accuracy: 0.7217 - val_loss: 0.8772 - val_accuracy: 0.6475\n",
            "\n",
            "Epoch 00013: val_loss did not improve from 0.84251\n",
            "Epoch 14/2000\n",
            "115/115 [==============================] - 13s 111ms/step - loss: 0.6545 - accuracy: 0.7305 - val_loss: 0.8887 - val_accuracy: 0.6427\n",
            "\n",
            "Epoch 00014: val_loss did not improve from 0.84251\n",
            "Epoch 15/2000\n",
            "115/115 [==============================] - 13s 113ms/step - loss: 0.6336 - accuracy: 0.7378 - val_loss: 0.9133 - val_accuracy: 0.6372\n",
            "\n",
            "Epoch 00015: val_loss did not improve from 0.84251\n",
            "Epoch 16/2000\n",
            "115/115 [==============================] - 14s 118ms/step - loss: 0.6246 - accuracy: 0.7437 - val_loss: 0.9087 - val_accuracy: 0.6321\n",
            "\n",
            "Epoch 00016: val_loss did not improve from 0.84251\n",
            "Epoch 17/2000\n",
            "115/115 [==============================] - 13s 114ms/step - loss: 0.6135 - accuracy: 0.7501 - val_loss: 0.9250 - val_accuracy: 0.6378\n",
            "\n",
            "Epoch 00017: val_loss did not improve from 0.84251\n",
            "Epoch 18/2000\n",
            "115/115 [==============================] - 13s 114ms/step - loss: 0.5908 - accuracy: 0.7584 - val_loss: 0.9419 - val_accuracy: 0.6384\n",
            "\n",
            "Epoch 00018: val_loss did not improve from 0.84251\n",
            "Epoch 00018: early stopping\n"
          ]
        }
      ]
    },
    {
      "cell_type": "code",
      "metadata": {
        "id": "OAYEC5Lqh2cO"
      },
      "source": [
        "keras.backend.clear_session()"
      ],
      "execution_count": null,
      "outputs": []
    },
    {
      "cell_type": "code",
      "metadata": {
        "colab": {
          "base_uri": "https://localhost:8080/"
        },
        "id": "20muMF97h2-o",
        "outputId": "27662199-3224-4ffb-dac7-5c8c90604257"
      },
      "source": [
        "test_loss, test_acc = model.evaluate(X_test_all_input,  Y_test_01, verbose=2)\n",
        "print('\\nTest accuracy:', test_acc)"
      ],
      "execution_count": null,
      "outputs": [
        {
          "output_type": "stream",
          "name": "stdout",
          "text": [
            "1143/1143 - 8s - loss: 0.9257 - accuracy: 0.6409\n",
            "\n",
            "Test accuracy: 0.6409281492233276\n"
          ]
        }
      ]
    },
    {
      "cell_type": "code",
      "metadata": {
        "id": "U9ZlfXYRh9cS"
      },
      "source": [
        "epochs = np.arange(1,len(multiClass_hist.history['loss'])+1)\n",
        "\n",
        "plt.plot(epochs,multiClass_hist.history['loss'],label='training')\n",
        "plt.plot(epochs,multiClass_hist.history['val_loss'],label='validation')\n",
        "plt.xlim([0, len(multiClass_hist.history['loss'])+1])\n",
        "plt.xlabel('epochs',fontsize=14)\n",
        "plt.ylabel('loss',fontsize=14)\n",
        "plt.legend()\n",
        "plt.title('LSTM: multi-class')\n",
        "plt.show()"
      ],
      "execution_count": null,
      "outputs": []
    },
    {
      "cell_type": "code",
      "metadata": {
        "id": "LObhR_oTiQ2W"
      },
      "source": [
        "ypred = model.predict(X_test_all_input, batch_size=256)\n"
      ],
      "execution_count": null,
      "outputs": []
    },
    {
      "cell_type": "code",
      "metadata": {
        "colab": {
          "base_uri": "https://localhost:8080/"
        },
        "id": "goOICRDciZCF",
        "outputId": "17fc9e25-7c57-4468-dbde-3d33a0d36519"
      },
      "source": [
        "import sklearn.metrics as metrics\n",
        "from sklearn.metrics import classification_report, confusion_matrix\n",
        "\n",
        "\n",
        "target_names = ['0-120', '120-200','200-300','300-450','450-']\n",
        "print(classification_report(np.argmax(Y_test_01, axis=1), ypred.argmax(axis=1), target_names=target_names))\n"
      ],
      "execution_count": null,
      "outputs": [
        {
          "output_type": "stream",
          "name": "stdout",
          "text": [
            "              precision    recall  f1-score   support\n",
            "\n",
            "       0-120       0.71      0.82      0.76     18033\n",
            "     120-200       0.55      0.45      0.49     10247\n",
            "     200-300       0.53      0.45      0.49      5371\n",
            "     300-450       0.56      0.56      0.56      2303\n",
            "        450-       0.57      0.53      0.55       593\n",
            "\n",
            "    accuracy                           0.64     36547\n",
            "   macro avg       0.58      0.56      0.57     36547\n",
            "weighted avg       0.63      0.64      0.63     36547\n",
            "\n"
          ]
        }
      ]
    },
    {
      "cell_type": "code",
      "metadata": {
        "colab": {
          "base_uri": "https://localhost:8080/",
          "height": 621
        },
        "id": "fqTlJkEYidrH",
        "outputId": "5cfa93fe-3d1e-42bf-9d46-6f22047e125c"
      },
      "source": [
        "from sklearn.metrics import confusion_matrix\n",
        "import seaborn as sns\n",
        "\n",
        "cm = confusion_matrix(np.argmax(Y_test_01, axis=1), np.argmax(ypred, axis=1),labels=None, sample_weight=None,normalize=None)\n",
        "# Normalise\n",
        "cmn = cm.astype('float') / cm.sum(axis=1)[:, np.newaxis]\n",
        "fig, ax = plt.subplots(figsize=(10,10))\n",
        "sns.heatmap(cmn, annot=True, fmt='.2f', xticklabels=target_names, yticklabels=target_names)\n",
        "plt.ylabel('Actual')\n",
        "plt.xlabel('Predicted')\n",
        "plt.title('best_higgs_pt_withH comb')\n",
        "\n",
        "plt.show(block=False)"
      ],
      "execution_count": null,
      "outputs": [
        {
          "output_type": "display_data",
          "data": {
            "image/png": "[encoded data removed]",
            "text/plain": [
              "<Figure size 720x720 with 2 Axes>"
            ]
          },
          "metadata": {
            "needs_background": "light"
          }
        }
      ]
    }
  ]
}